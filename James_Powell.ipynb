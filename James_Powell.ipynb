{
 "cells": [
  {
   "cell_type": "markdown",
   "metadata": {},
   "source": [
    "https://www.youtube.com/watch?v=pGGjS6CkDeE&t=15s"
   ]
  },
  {
   "cell_type": "code",
   "execution_count": 29,
   "metadata": {},
   "outputs": [],
   "source": [
    "import pandas as pd\n",
    "from collections import namedtuple\n",
    "from dataclasses import dataclass"
   ]
  },
  {
   "cell_type": "code",
   "execution_count": 9,
   "metadata": {},
   "outputs": [],
   "source": [
    "df = pd.DataFrame({\n",
    "    'price': [10,20,30],\n",
    "    'volume': [100,200,300],\n",
    "}, index = pd.MultiIndex.from_arrays([\"AAPL MSFT AAPL\".split(), pd.date_range('2010-01-01', periods = 3)]))"
   ]
  },
  {
   "cell_type": "code",
   "execution_count": 10,
   "metadata": {},
   "outputs": [
    {
     "name": "stdout",
     "output_type": "stream",
     "text": [
      "                 price  volume\n",
      "AAPL 2010-01-01     10     100\n",
      "MSFT 2010-01-02     20     200\n",
      "AAPL 2010-01-03     30     300\n"
     ]
    }
   ],
   "source": [
    "print(df, sep='\\n{}\\n'.format('\\N{box drawings light horizontal}' * 40))"
   ]
  },
  {
   "cell_type": "code",
   "execution_count": null,
   "metadata": {},
   "outputs": [],
   "source": [
    "def market_value(df):\n",
    "    ''''''"
   ]
  },
  {
   "cell_type": "markdown",
   "metadata": {},
   "source": [
    "* def market_value(trades: list[dict[list...]]) etc is too strict and confusing\n",
    "* his opinion that functions should only take in series and give out series\n",
    "* programatically down the rows and structurally across the almost always when we do operations of pandas object"
   ]
  },
  {
   "cell_type": "code",
   "execution_count": 13,
   "metadata": {},
   "outputs": [
    {
     "name": "stdout",
     "output_type": "stream",
     "text": [
      "asset  date      \n",
      "AAPL   2020-01-01      10\n",
      "MSFT   2020-01-02      20\n",
      "AAPL   2020-01-03      30\n",
      "USD    2020-01-04    1000\n",
      "       2020-01-05   -4000\n",
      "       2020-01-06    9000\n",
      "dtype: int64\n",
      "asset       AAPL  MSFT     USD\n",
      "date                          \n",
      "2020-01-01  10.0   NaN     NaN\n",
      "2020-01-02   NaN  20.0     NaN\n",
      "2020-01-03  30.0   NaN     NaN\n",
      "2020-01-04   NaN   NaN  1000.0\n",
      "2020-01-05   NaN   NaN -4000.0\n",
      "2020-01-06   NaN   NaN  9000.0\n",
      "asset\n",
      "AAPL      40.0\n",
      "MSFT      20.0\n",
      "USD     6000.0\n",
      "dtype: float64\n"
     ]
    }
   ],
   "source": [
    "s = pd.Series(\n",
    "    [10, 20, 30, 100*10, -200*20, 300*30],\n",
    "    index = pd.MultiIndex.from_arrays(['AAPL MSFT AAPL USD USD USD'.split(), pd.date_range('2020-01-01', periods=6)], names = 'asset date'.split()))\n",
    "print(s)\n",
    "print(s.unstack('asset'))\n",
    "print(s.unstack('asset').sum())"
   ]
  },
  {
   "cell_type": "code",
   "execution_count": 15,
   "metadata": {},
   "outputs": [],
   "source": [
    "Trade = namedtuple('Trade', 'asset volume')"
   ]
  },
  {
   "cell_type": "code",
   "execution_count": 30,
   "metadata": {},
   "outputs": [],
   "source": [
    "@dataclass\n",
    "class Environment:\n",
    "    prices: pd.Series\n",
    "    def execute(self):\n",
    "        pass\n"
   ]
  },
  {
   "cell_type": "code",
   "execution_count": 41,
   "metadata": {},
   "outputs": [],
   "source": [
    "env = Environment(\n",
    "    pd.Series([300, 400, 325, 425, 350, 450], index = pd.MultiIndex.from_product(['AAPL MSFT'.split(), pd.date_range('2010-01-01', periods=3)], names = 'asset date'.split()))\n",
    ")"
   ]
  },
  {
   "cell_type": "code",
   "execution_count": 42,
   "metadata": {},
   "outputs": [
    {
     "data": {
      "text/plain": [
       "Environment(prices=asset  date      \n",
       "AAPL   2010-01-01    NaN\n",
       "       2010-01-02    NaN\n",
       "       2010-01-03    NaN\n",
       "MSFT   2010-01-01    NaN\n",
       "       2010-01-02    NaN\n",
       "       2010-01-03    NaN\n",
       "dtype: object)"
      ]
     },
     "execution_count": 42,
     "metadata": {},
     "output_type": "execute_result"
    }
   ],
   "source": [
    "env"
   ]
  },
  {
   "cell_type": "code",
   "execution_count": 43,
   "metadata": {},
   "outputs": [],
   "source": [
    "env = Environment(\n",
    "    pd.DataFrame(data ={\n",
    "                'buy':[301, 401, 326, 426, 351, 451],\n",
    "                'sell':[300, 400, 325, 425, 350, 450],\n",
    "            },\n",
    "            index = pd.MultiIndex.from_product(['AAPL MSFT'.split(), pd.date_range('2010-01-01', periods=3)], names = 'asset date'.split()))\n",
    ")\n"
   ]
  },
  {
   "cell_type": "code",
   "execution_count": 45,
   "metadata": {},
   "outputs": [
    {
     "data": {
      "text/plain": [
       "Environment(prices=None)"
      ]
     },
     "execution_count": 45,
     "metadata": {},
     "output_type": "execute_result"
    }
   ],
   "source": [
    "env = Environment(None)\n",
    "env"
   ]
  },
  {
   "cell_type": "code",
   "execution_count": null,
   "metadata": {},
   "outputs": [],
   "source": []
  },
  {
   "cell_type": "code",
   "execution_count": 46,
   "metadata": {},
   "outputs": [],
   "source": [
    "trades = pd.Series([100,200,-150], index = pd.MultiIndex.from_arrays([['AAPL', 'MSFT', 'AAPL'], pd.date_range('2010-01-01', periods = 3)], names='asset date'.split()), name = 'volume')"
   ]
  },
  {
   "cell_type": "code",
   "execution_count": null,
   "metadata": {},
   "outputs": [],
   "source": []
  },
  {
   "cell_type": "code",
   "execution_count": 28,
   "metadata": {},
   "outputs": [
    {
     "data": {
      "text/plain": [
       "asset  date      \n",
       "AAPL   2010-01-01    100\n",
       "MSFT   2010-01-02    200\n",
       "AAPL   2010-01-03   -150\n",
       "Name: volume, dtype: int64"
      ]
     },
     "execution_count": 28,
     "metadata": {},
     "output_type": "execute_result"
    }
   ],
   "source": [
    "trades"
   ]
  }
 ],
 "metadata": {
  "kernelspec": {
   "display_name": "Python 3",
   "language": "python",
   "name": "python3"
  },
  "language_info": {
   "codemirror_mode": {
    "name": "ipython",
    "version": 3
   },
   "file_extension": ".py",
   "mimetype": "text/x-python",
   "name": "python",
   "nbconvert_exporter": "python",
   "pygments_lexer": "ipython3",
   "version": "3.10.6"
  }
 },
 "nbformat": 4,
 "nbformat_minor": 2
}
