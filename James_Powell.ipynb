{
 "cells": [
  {
   "cell_type": "markdown",
   "metadata": {},
   "source": [
    "https://www.youtube.com/watch?v=pGGjS6CkDeE&t=15s"
   ]
  },
  {
   "cell_type": "code",
   "execution_count": 17,
   "metadata": {},
   "outputs": [],
   "source": [
    "import pandas as pd\n",
    "from collections import namedtuple\n",
    "from dataclasses import dataclass\n",
    "import numpy as np"
   ]
  },
  {
   "cell_type": "code",
   "execution_count": 3,
   "metadata": {},
   "outputs": [],
   "source": [
    "df = pd.DataFrame({\n",
    "    'price': [10,20,30],\n",
    "    'volume': [100,200,300],\n",
    "}, index = pd.MultiIndex.from_arrays([\"AAPL MSFT AAPL\".split(), pd.date_range('2010-01-01', periods = 3)]))"
   ]
  },
  {
   "cell_type": "code",
   "execution_count": 4,
   "metadata": {},
   "outputs": [
    {
     "name": "stdout",
     "output_type": "stream",
     "text": [
      "                 price  volume\n",
      "AAPL 2010-01-01     10     100\n",
      "MSFT 2010-01-02     20     200\n",
      "AAPL 2010-01-03     30     300\n"
     ]
    }
   ],
   "source": [
    "print(df, sep='\\n{}\\n'.format('\\N{box drawings light horizontal}' * 40))"
   ]
  },
  {
   "cell_type": "code",
   "execution_count": 5,
   "metadata": {},
   "outputs": [],
   "source": [
    "def market_value(df):\n",
    "    ''''''"
   ]
  },
  {
   "cell_type": "markdown",
   "metadata": {},
   "source": [
    "* def market_value(trades: list[dict[list...]]) etc is too strict and confusing\n",
    "* his opinion that functions should only take in series and give out series\n",
    "* programatically down the rows and structurally across the almost always when we do operations of pandas object"
   ]
  },
  {
   "cell_type": "code",
   "execution_count": 6,
   "metadata": {},
   "outputs": [
    {
     "name": "stdout",
     "output_type": "stream",
     "text": [
      "asset  date      \n",
      "AAPL   2020-01-01      10\n",
      "MSFT   2020-01-02      20\n",
      "AAPL   2020-01-03      30\n",
      "USD    2020-01-04    1000\n",
      "       2020-01-05   -4000\n",
      "       2020-01-06    9000\n",
      "dtype: int64\n",
      "asset       AAPL  MSFT     USD\n",
      "date                          \n",
      "2020-01-01  10.0   NaN     NaN\n",
      "2020-01-02   NaN  20.0     NaN\n",
      "2020-01-03  30.0   NaN     NaN\n",
      "2020-01-04   NaN   NaN  1000.0\n",
      "2020-01-05   NaN   NaN -4000.0\n",
      "2020-01-06   NaN   NaN  9000.0\n",
      "asset\n",
      "AAPL      40.0\n",
      "MSFT      20.0\n",
      "USD     6000.0\n",
      "dtype: float64\n"
     ]
    }
   ],
   "source": [
    "s = pd.Series(\n",
    "    [10, 20, 30, 100*10, -200*20, 300*30],\n",
    "    index = pd.MultiIndex.from_arrays(['AAPL MSFT AAPL USD USD USD'.split(), pd.date_range('2020-01-01', periods=6)], names = 'asset date'.split()))\n",
    "print(s)\n",
    "print(s.unstack('asset'))\n",
    "print(s.unstack('asset').sum())"
   ]
  },
  {
   "cell_type": "code",
   "execution_count": 7,
   "metadata": {},
   "outputs": [],
   "source": [
    "Trade = namedtuple('Trade', 'asset volume')"
   ]
  },
  {
   "cell_type": "code",
   "execution_count": 8,
   "metadata": {},
   "outputs": [],
   "source": [
    "@dataclass\n",
    "class Environment:\n",
    "    prices: pd.Series\n",
    "    def execute(self):\n",
    "        pass\n"
   ]
  },
  {
   "cell_type": "code",
   "execution_count": 9,
   "metadata": {},
   "outputs": [],
   "source": [
    "env = Environment(\n",
    "    pd.Series([300, 400, 325, 425, 350, 450], index = pd.MultiIndex.from_product(['AAPL MSFT'.split(), pd.date_range('2010-01-01', periods=3)], names = 'asset date'.split()))\n",
    ")"
   ]
  },
  {
   "cell_type": "code",
   "execution_count": 10,
   "metadata": {},
   "outputs": [
    {
     "data": {
      "text/plain": [
       "Environment(prices=asset  date      \n",
       "AAPL   2010-01-01    300\n",
       "       2010-01-02    400\n",
       "       2010-01-03    325\n",
       "MSFT   2010-01-01    425\n",
       "       2010-01-02    350\n",
       "       2010-01-03    450\n",
       "dtype: int64)"
      ]
     },
     "execution_count": 10,
     "metadata": {},
     "output_type": "execute_result"
    }
   ],
   "source": [
    "env"
   ]
  },
  {
   "cell_type": "code",
   "execution_count": 30,
   "metadata": {},
   "outputs": [
    {
     "data": {
      "text/html": [
       "<div>\n",
       "<style scoped>\n",
       "    .dataframe tbody tr th:only-of-type {\n",
       "        vertical-align: middle;\n",
       "    }\n",
       "\n",
       "    .dataframe tbody tr th {\n",
       "        vertical-align: top;\n",
       "    }\n",
       "\n",
       "    .dataframe thead th {\n",
       "        text-align: right;\n",
       "    }\n",
       "</style>\n",
       "<table border=\"1\" class=\"dataframe\">\n",
       "  <thead>\n",
       "    <tr style=\"text-align: right;\">\n",
       "      <th></th>\n",
       "      <th>direction</th>\n",
       "      <th>buy</th>\n",
       "      <th>sell</th>\n",
       "    </tr>\n",
       "    <tr>\n",
       "      <th>asset</th>\n",
       "      <th>date</th>\n",
       "      <th></th>\n",
       "      <th></th>\n",
       "    </tr>\n",
       "  </thead>\n",
       "  <tbody>\n",
       "    <tr>\n",
       "      <th rowspan=\"3\" valign=\"top\">AAPL</th>\n",
       "      <th>2010-01-01</th>\n",
       "      <td>301</td>\n",
       "      <td>300</td>\n",
       "    </tr>\n",
       "    <tr>\n",
       "      <th>2010-01-02</th>\n",
       "      <td>401</td>\n",
       "      <td>400</td>\n",
       "    </tr>\n",
       "    <tr>\n",
       "      <th>2010-01-03</th>\n",
       "      <td>326</td>\n",
       "      <td>325</td>\n",
       "    </tr>\n",
       "    <tr>\n",
       "      <th rowspan=\"3\" valign=\"top\">MSFT</th>\n",
       "      <th>2010-01-01</th>\n",
       "      <td>426</td>\n",
       "      <td>425</td>\n",
       "    </tr>\n",
       "    <tr>\n",
       "      <th>2010-01-02</th>\n",
       "      <td>351</td>\n",
       "      <td>350</td>\n",
       "    </tr>\n",
       "    <tr>\n",
       "      <th>2010-01-03</th>\n",
       "      <td>451</td>\n",
       "      <td>450</td>\n",
       "    </tr>\n",
       "  </tbody>\n",
       "</table>\n",
       "</div>"
      ],
      "text/plain": [
       "direction         buy  sell\n",
       "asset date                 \n",
       "AAPL  2010-01-01  301   300\n",
       "      2010-01-02  401   400\n",
       "      2010-01-03  326   325\n",
       "MSFT  2010-01-01  426   425\n",
       "      2010-01-02  351   350\n",
       "      2010-01-03  451   450"
      ]
     },
     "execution_count": 30,
     "metadata": {},
     "output_type": "execute_result"
    }
   ],
   "source": [
    "prices = (\n",
    "    pd.DataFrame(data ={\n",
    "                'buy':[301, 401, 326, 426, 351, 451],\n",
    "                'sell':[300, 400, 325, 425, 350, 450],\n",
    "            },\n",
    "            index = pd.MultiIndex.from_product(['AAPL MSFT'.split(), pd.date_range('2010-01-01', periods=3)], names = 'asset date'.split()))\n",
    ").rename_axis(columns='direction')\n",
    "prices"
   ]
  },
  {
   "cell_type": "code",
   "execution_count": 13,
   "metadata": {},
   "outputs": [],
   "source": [
    "trades = pd.Series([100,200,-150], \n",
    "                    index = pd.MultiIndex.from_arrays([['AAPL', 'MSFT', 'AAPL'], pd.date_range('2010-01-01', periods = 3)], \n",
    "                    names='asset date'.split()), \n",
    "                    name = 'volume')"
   ]
  },
  {
   "cell_type": "code",
   "execution_count": 14,
   "metadata": {},
   "outputs": [
    {
     "data": {
      "text/plain": [
       "asset  date      \n",
       "AAPL   2010-01-01    100\n",
       "MSFT   2010-01-02    200\n",
       "AAPL   2010-01-03   -150\n",
       "Name: volume, dtype: int64"
      ]
     },
     "execution_count": 14,
     "metadata": {},
     "output_type": "execute_result"
    }
   ],
   "source": [
    "trades"
   ]
  },
  {
   "cell_type": "code",
   "execution_count": 25,
   "metadata": {},
   "outputs": [
    {
     "data": {
      "text/plain": [
       "array([ 1,  1, -1], dtype=int64)"
      ]
     },
     "execution_count": 25,
     "metadata": {},
     "output_type": "execute_result"
    }
   ],
   "source": [
    "np.sign(trades).values"
   ]
  },
  {
   "cell_type": "code",
   "execution_count": 31,
   "metadata": {},
   "outputs": [
    {
     "data": {
      "text/plain": [
       "MultiIndex([('AAPL', '2010-01-01',  'buy'),\n",
       "            ('MSFT', '2010-01-02',  'buy'),\n",
       "            ('AAPL', '2010-01-03', 'sell')],\n",
       "           names=['asset', 'date', 'direction'])"
      ]
     },
     "execution_count": 31,
     "metadata": {},
     "output_type": "execute_result"
    }
   ],
   "source": [
    "pd.MultiIndex.from_arrays([\n",
    "    trades.index.get_level_values('asset'),\n",
    "    trades.index.get_level_values('date'),\n",
    "    pd.Series({+1:'buy',-1:'sell'}).loc[np.sign(trades).values]\n",
    "], names = 'asset date direction'.split())"
   ]
  },
  {
   "cell_type": "code",
   "execution_count": 34,
   "metadata": {},
   "outputs": [
    {
     "data": {
      "text/plain": [
       "asset  date        direction\n",
       "AAPL   2010-01-01  buy          301\n",
       "                   sell         300\n",
       "       2010-01-02  buy          401\n",
       "                   sell         400\n",
       "       2010-01-03  buy          326\n",
       "                   sell         325\n",
       "MSFT   2010-01-01  buy          426\n",
       "                   sell         425\n",
       "       2010-01-02  buy          351\n",
       "                   sell         350\n",
       "       2010-01-03  buy          451\n",
       "                   sell         450\n",
       "dtype: int64"
      ]
     },
     "execution_count": 34,
     "metadata": {},
     "output_type": "execute_result"
    }
   ],
   "source": [
    "prices.stack('direction')"
   ]
  },
  {
   "cell_type": "code",
   "execution_count": 40,
   "metadata": {},
   "outputs": [
    {
     "data": {
      "text/plain": [
       "asset  date        direction  portfolio\n",
       "AAPL   2010-01-01  buy        Alice        30100\n",
       "MSFT   2010-01-02  buy        Bob          70200\n",
       "AAPL   2010-01-03  sell       Alice       -48750\n",
       "dtype: int64"
      ]
     },
     "execution_count": 40,
     "metadata": {},
     "output_type": "execute_result"
    }
   ],
   "source": [
    "prices.stack('direction').loc[\n",
    "    pd.MultiIndex.from_arrays([\n",
    "    trades.index.get_level_values('asset'),\n",
    "    trades.index.get_level_values('date'),\n",
    "    pd.Series({+1:'buy',-1:'sell'}).loc[np.sign(trades).values]\n",
    "], names = 'asset date direction'.split())\n",
    "] * trades"
   ]
  },
  {
   "cell_type": "markdown",
   "metadata": {},
   "source": [
    "what if the source index had extra index layers?"
   ]
  },
  {
   "cell_type": "code",
   "execution_count": 39,
   "metadata": {},
   "outputs": [
    {
     "data": {
      "text/plain": [
       "portfolio  asset  date      \n",
       "Alice      AAPL   2010-01-01    100\n",
       "Bob        MSFT   2010-01-02    200\n",
       "Alice      AAPL   2010-01-03   -150\n",
       "Name: volume, dtype: int64"
      ]
     },
     "execution_count": 39,
     "metadata": {},
     "output_type": "execute_result"
    }
   ],
   "source": [
    "trades = pd.Series([100,200,-150], \n",
    "                    index = pd.MultiIndex.from_arrays(['Alice Bob Alice'.split(), ['AAPL', 'MSFT', 'AAPL'], pd.date_range('2010-01-01', periods = 3)], \n",
    "                    names='portfolio asset date'.split()), \n",
    "                    name = 'volume')\n",
    "trades"
   ]
  },
  {
   "cell_type": "markdown",
   "metadata": {},
   "source": [
    "What causes this to be slow?\n",
    "\n",
    "* Look up with multiindex very slow (very easy to code up in C however)\n",
    "* The structure is already index aligned from the .loc so we can just work with the values?"
   ]
  },
  {
   "cell_type": "code",
   "execution_count": 45,
   "metadata": {},
   "outputs": [
    {
     "data": {
      "text/plain": [
       "portfolio  asset  date      \n",
       "Alice      AAPL   2010-01-01      100\n",
       "Bob        MSFT   2010-01-02      200\n",
       "Alice      AAPL   2010-01-03     -150\n",
       "                  2010-01-01    30100\n",
       "Bob        MSFT   2010-01-02    70200\n",
       "Alice      AAPL   2010-01-03   -48750\n",
       "Name: volume, dtype: int64"
      ]
     },
     "execution_count": 45,
     "metadata": {},
     "output_type": "execute_result"
    }
   ],
   "source": [
    "pd.concat([ trades, trades * prices.stack('direction').loc[\n",
    "    pd.MultiIndex.from_arrays([\n",
    "        trades.index.get_level_values('asset'),\n",
    "        trades.index.get_level_values('date'),\n",
    "        pd.Series({+1:'buy',-1:'sell'}).loc[np.sign(trades).values]\n",
    "    ], names = 'asset date direction'.split())\n",
    "].values]).set_axis(\n",
    "\n",
    ")"
   ]
  },
  {
   "cell_type": "code",
   "execution_count": null,
   "metadata": {},
   "outputs": [],
   "source": []
  }
 ],
 "metadata": {
  "kernelspec": {
   "display_name": "Python 3",
   "language": "python",
   "name": "python3"
  },
  "language_info": {
   "codemirror_mode": {
    "name": "ipython",
    "version": 3
   },
   "file_extension": ".py",
   "mimetype": "text/x-python",
   "name": "python",
   "nbconvert_exporter": "python",
   "pygments_lexer": "ipython3",
   "version": "3.10.6"
  }
 },
 "nbformat": 4,
 "nbformat_minor": 2
}
